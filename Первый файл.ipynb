{
 "cells": [
  {
   "cell_type": "code",
   "execution_count": 1,
   "id": "b4c0741e",
   "metadata": {},
   "outputs": [],
   "source": [
    "a=1\n",
    "b=2"
   ]
  },
  {
   "cell_type": "code",
   "execution_count": 2,
   "id": "19e234f0",
   "metadata": {},
   "outputs": [
    {
     "name": "stdout",
     "output_type": "stream",
     "text": [
      "1 2\n"
     ]
    }
   ],
   "source": [
    "print(a,b)"
   ]
  },
  {
   "cell_type": "raw",
   "id": "260eb78f",
   "metadata": {},
   "source": [
    "some raw text"
   ]
  },
  {
   "cell_type": "markdown",
   "id": "f716e255",
   "metadata": {},
   "source": [
    "#MARKDOWN\n",
    "** Bold text **\n",
    "some text"
   ]
  },
  {
   "cell_type": "markdown",
   "id": "14a11c1c",
   "metadata": {},
   "source": [
    "# Markdown\n",
    "**Bold text** \n",
    "some text"
   ]
  }
 ],
 "metadata": {
  "kernelspec": {
   "display_name": "Python 3 (ipykernel)",
   "language": "python",
   "name": "python3"
  },
  "language_info": {
   "codemirror_mode": {
    "name": "ipython",
    "version": 3
   },
   "file_extension": ".py",
   "mimetype": "text/x-python",
   "name": "python",
   "nbconvert_exporter": "python",
   "pygments_lexer": "ipython3",
   "version": "3.9.12"
  }
 },
 "nbformat": 4,
 "nbformat_minor": 5
}
