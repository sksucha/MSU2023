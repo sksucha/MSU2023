{
 "cells": [
  {
   "cell_type": "code",
   "execution_count": null,
   "id": "1d5199be",
   "metadata": {},
   "outputs": [],
   "source": [
    "from tkinter import *\n",
    "from tkinter import messagebox\n",
    "from math import *\n",
    "\n",
    "def my_action():\n",
    "    if shash.get() == 0:\n",
    "        xx = 'black'\n",
    "    elif shash.get() == 1:\n",
    "        xx = 'purple'\n",
    "    elif shash.get() == 2:\n",
    "        xx = 'blue'\n",
    "    frm = int(e1.get())\n",
    "    to   = int(e2.get())\n",
    "    \n",
    "    for i in range( frm, to):\n",
    "        canvas.create_line(i,10*sin(i)+150, i+1, 10*sin(i)+150, fill=xx, width=10)\n",
    "        \n",
    "master = Tk()\n",
    "master.title('Рисуем')\n",
    "\n",
    "canvas = Canvas(master, width=800, height=400, background='white')\n",
    "canvas.grid(column=0, row=1)\n",
    "\n",
    "\n",
    "l1 = Label(master, text='t0')\n",
    "l1.grid(row=2, column=0, sticky='e')\n",
    "l2 = Label(master, text='t1')\n",
    "l2.grid(row=3, column=0, sticky='e')\n",
    "\n",
    "e1 = Entry(master)\n",
    "e2 = Entry(master)\n",
    "e1.grid(row=2, column=1)\n",
    "e2.grid(row=3, column=1)\n",
    "\n",
    "shash = IntVar()\n",
    "shash.set(0)\n",
    "blabutton = Radiobutton(master, text = 'Black', fg ='black', variable=shash, value= 0)\n",
    "blabutton.grid(row=4, column=1)\n",
    "pbutton = Radiobutton(master, text = 'Purple', fg='purple', variable=shash, value= 1)\n",
    "pbutton.grid(row=5, column=1)\n",
    "blubutton = Radiobutton(master, text ='Blue', fg ='blue', variable=shash, value= 2)\n",
    "blubutton.grid(row=6, column=1)\n",
    "\n",
    "\n",
    "b1 = Button(master, text=\"Draw!\", command = my_action)\n",
    "b1.grid(row=7, column = 1)\n",
    "\n",
    "master.mainloop()"
   ]
  }
 ],
 "metadata": {
  "kernelspec": {
   "display_name": "Python 3 (ipykernel)",
   "language": "python",
   "name": "python3"
  },
  "language_info": {
   "codemirror_mode": {
    "name": "ipython",
    "version": 3
   },
   "file_extension": ".py",
   "mimetype": "text/x-python",
   "name": "python",
   "nbconvert_exporter": "python",
   "pygments_lexer": "ipython3",
   "version": "3.9.12"
  }
 },
 "nbformat": 4,
 "nbformat_minor": 5
}
